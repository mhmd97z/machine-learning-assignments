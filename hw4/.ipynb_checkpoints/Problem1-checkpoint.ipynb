{
 "cells": [
  {
   "cell_type": "markdown",
   "metadata": {
    "id": "2OFgJBa3mIpm",
    "toc": true
   },
   "source": [
    "<h1>Table of Contents<span class=\"tocSkip\"></span></h1>\n",
    "<div class=\"toc\"><ul class=\"toc-item\"><li><span><a href=\"#Problem-1\" data-toc-modified-id=\"Problem-1-1\"><span class=\"toc-item-num\">1&nbsp;&nbsp;</span>Problem 1</a></span><ul class=\"toc-item\"><li><span><a href=\"#Import\" data-toc-modified-id=\"Import-1.1\"><span class=\"toc-item-num\">1.1&nbsp;&nbsp;</span>Import</a></span></li><li><span><a href=\"#Optimization\" data-toc-modified-id=\"Optimization-1.2\"><span class=\"toc-item-num\">1.2&nbsp;&nbsp;</span>Optimization</a></span><ul class=\"toc-item\"><li><span><a href=\"#Simple-SGD-optimization\" data-toc-modified-id=\"Simple-SGD-optimization-1.2.1\"><span class=\"toc-item-num\">1.2.1&nbsp;&nbsp;</span>Simple SGD optimization</a></span></li><li><span><a href=\"#SGD-with-momentum\" data-toc-modified-id=\"SGD-with-momentum-1.2.2\"><span class=\"toc-item-num\">1.2.2&nbsp;&nbsp;</span>SGD with momentum</a></span></li><li><span><a href=\"#Target-functions\" data-toc-modified-id=\"Target-functions-1.2.3\"><span class=\"toc-item-num\">1.2.3&nbsp;&nbsp;</span>Target functions</a></span></li><li><span><a href=\"#Plot-cost\" data-toc-modified-id=\"Plot-cost-1.2.4\"><span class=\"toc-item-num\">1.2.4&nbsp;&nbsp;</span>Plot cost</a></span></li><li><span><a href=\"#Parameters\" data-toc-modified-id=\"Parameters-1.2.5\"><span class=\"toc-item-num\">1.2.5&nbsp;&nbsp;</span>Parameters</a></span></li><li><span><a href=\"#Rosenbrock-function\" data-toc-modified-id=\"Rosenbrock-function-1.2.6\"><span class=\"toc-item-num\">1.2.6&nbsp;&nbsp;</span>Rosenbrock function</a></span></li><li><span><a href=\"#Powel-Function\" data-toc-modified-id=\"Powel-Function-1.2.7\"><span class=\"toc-item-num\">1.2.7&nbsp;&nbsp;</span>Powel Function</a></span></li><li><span><a href=\"#Question\" data-toc-modified-id=\"Question-1.2.8\"><span class=\"toc-item-num\">1.2.8&nbsp;&nbsp;</span>Question</a></span></li></ul></li><li><span><a href=\"#Regularization\" data-toc-modified-id=\"Regularization-1.3\"><span class=\"toc-item-num\">1.3&nbsp;&nbsp;</span>Regularization</a></span><ul class=\"toc-item\"><li><span><a href=\"#Parameters\" data-toc-modified-id=\"Parameters-1.3.1\"><span class=\"toc-item-num\">1.3.1&nbsp;&nbsp;</span>Parameters</a></span></li><li><span><a href=\"#Loading-dataset\" data-toc-modified-id=\"Loading-dataset-1.3.2\"><span class=\"toc-item-num\">1.3.2&nbsp;&nbsp;</span>Loading dataset</a></span></li><li><span><a href=\"#Objective-function\" data-toc-modified-id=\"Objective-function-1.3.3\"><span class=\"toc-item-num\">1.3.3&nbsp;&nbsp;</span>Objective function</a></span></li><li><span><a href=\"#Regularization-factor-=-0\" data-toc-modified-id=\"Regularization-factor-=-0-1.3.4\"><span class=\"toc-item-num\">1.3.4&nbsp;&nbsp;</span>Regularization factor = 0</a></span></li><li><span><a href=\"#Regularization-factor-=-0.001\" data-toc-modified-id=\"Regularization-factor-=-0.001-1.3.5\"><span class=\"toc-item-num\">1.3.5&nbsp;&nbsp;</span>Regularization factor = 0.001</a></span></li><li><span><a href=\"#Regularization-factor-=-0.01\" data-toc-modified-id=\"Regularization-factor-=-0.01-1.3.6\"><span class=\"toc-item-num\">1.3.6&nbsp;&nbsp;</span>Regularization factor = 0.01</a></span></li><li><span><a href=\"#Question\" data-toc-modified-id=\"Question-1.3.7\"><span class=\"toc-item-num\">1.3.7&nbsp;&nbsp;</span>Question</a></span></li></ul></li></ul></li></ul></div>"
   ]
  },
  {
   "cell_type": "markdown",
   "metadata": {
    "id": "p8jWdCzqmIpu"
   },
   "source": [
    "# Problem 1\n",
    "Please fill todo parts of this code. \n",
    "You can change any part of the code that you think it is needed but we do not suggest that. \n",
    "\n",
    "After you filled the todo parts please run the whole network one time and then upload your results. "
   ]
  },
  {
   "cell_type": "markdown",
   "metadata": {
    "id": "eogv-mhUmIpv"
   },
   "source": [
    "## Import \n",
    "Import your required libraries in this cell. \n",
    "\n",
    "**Note**: You cannot use torch.optim library in this problem. "
   ]
  },
  {
   "cell_type": "code",
   "execution_count": 19,
   "metadata": {
    "colab": {
     "base_uri": "https://localhost:8080/",
     "height": 73,
     "resources": {
      "http://localhost:8080/nbextensions/google.colab/files.js": {
       "data": "Ly8gQ29weXJpZ2h0IDIwMTcgR29vZ2xlIExMQwovLwovLyBMaWNlbnNlZCB1bmRlciB0aGUgQXBhY2hlIExpY2Vuc2UsIFZlcnNpb24gMi4wICh0aGUgIkxpY2Vuc2UiKTsKLy8geW91IG1heSBub3QgdXNlIHRoaXMgZmlsZSBleGNlcHQgaW4gY29tcGxpYW5jZSB3aXRoIHRoZSBMaWNlbnNlLgovLyBZb3UgbWF5IG9idGFpbiBhIGNvcHkgb2YgdGhlIExpY2Vuc2UgYXQKLy8KLy8gICAgICBodHRwOi8vd3d3LmFwYWNoZS5vcmcvbGljZW5zZXMvTElDRU5TRS0yLjAKLy8KLy8gVW5sZXNzIHJlcXVpcmVkIGJ5IGFwcGxpY2FibGUgbGF3IG9yIGFncmVlZCB0byBpbiB3cml0aW5nLCBzb2Z0d2FyZQovLyBkaXN0cmlidXRlZCB1bmRlciB0aGUgTGljZW5zZSBpcyBkaXN0cmlidXRlZCBvbiBhbiAiQVMgSVMiIEJBU0lTLAovLyBXSVRIT1VUIFdBUlJBTlRJRVMgT1IgQ09ORElUSU9OUyBPRiBBTlkgS0lORCwgZWl0aGVyIGV4cHJlc3Mgb3IgaW1wbGllZC4KLy8gU2VlIHRoZSBMaWNlbnNlIGZvciB0aGUgc3BlY2lmaWMgbGFuZ3VhZ2UgZ292ZXJuaW5nIHBlcm1pc3Npb25zIGFuZAovLyBsaW1pdGF0aW9ucyB1bmRlciB0aGUgTGljZW5zZS4KCi8qKgogKiBAZmlsZW92ZXJ2aWV3IEhlbHBlcnMgZm9yIGdvb2dsZS5jb2xhYiBQeXRob24gbW9kdWxlLgogKi8KKGZ1bmN0aW9uKHNjb3BlKSB7CmZ1bmN0aW9uIHNwYW4odGV4dCwgc3R5bGVBdHRyaWJ1dGVzID0ge30pIHsKICBjb25zdCBlbGVtZW50ID0gZG9jdW1lbnQuY3JlYXRlRWxlbWVudCgnc3BhbicpOwogIGVsZW1lbnQudGV4dENvbnRlbnQgPSB0ZXh0OwogIGZvciAoY29uc3Qga2V5IG9mIE9iamVjdC5rZXlzKHN0eWxlQXR0cmlidXRlcykpIHsKICAgIGVsZW1lbnQuc3R5bGVba2V5XSA9IHN0eWxlQXR0cmlidXRlc1trZXldOwogIH0KICByZXR1cm4gZWxlbWVudDsKfQoKLy8gTWF4IG51bWJlciBvZiBieXRlcyB3aGljaCB3aWxsIGJlIHVwbG9hZGVkIGF0IGEgdGltZS4KY29uc3QgTUFYX1BBWUxPQURfU0laRSA9IDEwMCAqIDEwMjQ7CgpmdW5jdGlvbiBfdXBsb2FkRmlsZXMoaW5wdXRJZCwgb3V0cHV0SWQpIHsKICBjb25zdCBzdGVwcyA9IHVwbG9hZEZpbGVzU3RlcChpbnB1dElkLCBvdXRwdXRJZCk7CiAgY29uc3Qgb3V0cHV0RWxlbWVudCA9IGRvY3VtZW50LmdldEVsZW1lbnRCeUlkKG91dHB1dElkKTsKICAvLyBDYWNoZSBzdGVwcyBvbiB0aGUgb3V0cHV0RWxlbWVudCB0byBtYWtlIGl0IGF2YWlsYWJsZSBmb3IgdGhlIG5leHQgY2FsbAogIC8vIHRvIHVwbG9hZEZpbGVzQ29udGludWUgZnJvbSBQeXRob24uCiAgb3V0cHV0RWxlbWVudC5zdGVwcyA9IHN0ZXBzOwoKICByZXR1cm4gX3VwbG9hZEZpbGVzQ29udGludWUob3V0cHV0SWQpOwp9CgovLyBUaGlzIGlzIHJvdWdobHkgYW4gYXN5bmMgZ2VuZXJhdG9yIChub3Qgc3VwcG9ydGVkIGluIHRoZSBicm93c2VyIHlldCksCi8vIHdoZXJlIHRoZXJlIGFyZSBtdWx0aXBsZSBhc3luY2hyb25vdXMgc3RlcHMgYW5kIHRoZSBQeXRob24gc2lkZSBpcyBnb2luZwovLyB0byBwb2xsIGZvciBjb21wbGV0aW9uIG9mIGVhY2ggc3RlcC4KLy8gVGhpcyB1c2VzIGEgUHJvbWlzZSB0byBibG9jayB0aGUgcHl0aG9uIHNpZGUgb24gY29tcGxldGlvbiBvZiBlYWNoIHN0ZXAsCi8vIHRoZW4gcGFzc2VzIHRoZSByZXN1bHQgb2YgdGhlIHByZXZpb3VzIHN0ZXAgYXMgdGhlIGlucHV0IHRvIHRoZSBuZXh0IHN0ZXAuCmZ1bmN0aW9uIF91cGxvYWRGaWxlc0NvbnRpbnVlKG91dHB1dElkKSB7CiAgY29uc3Qgb3V0cHV0RWxlbWVudCA9IGRvY3VtZW50LmdldEVsZW1lbnRCeUlkKG91dHB1dElkKTsKICBjb25zdCBzdGVwcyA9IG91dHB1dEVsZW1lbnQuc3RlcHM7CgogIGNvbnN0IG5leHQgPSBzdGVwcy5uZXh0KG91dHB1dEVsZW1lbnQubGFzdFByb21pc2VWYWx1ZSk7CiAgcmV0dXJuIFByb21pc2UucmVzb2x2ZShuZXh0LnZhbHVlLnByb21pc2UpLnRoZW4oKHZhbHVlKSA9PiB7CiAgICAvLyBDYWNoZSB0aGUgbGFzdCBwcm9taXNlIHZhbHVlIHRvIG1ha2UgaXQgYXZhaWxhYmxlIHRvIHRoZSBuZXh0CiAgICAvLyBzdGVwIG9mIHRoZSBnZW5lcmF0b3IuCiAgICBvdXRwdXRFbGVtZW50Lmxhc3RQcm9taXNlVmFsdWUgPSB2YWx1ZTsKICAgIHJldHVybiBuZXh0LnZhbHVlLnJlc3BvbnNlOwogIH0pOwp9CgovKioKICogR2VuZXJhdG9yIGZ1bmN0aW9uIHdoaWNoIGlzIGNhbGxlZCBiZXR3ZWVuIGVhY2ggYXN5bmMgc3RlcCBvZiB0aGUgdXBsb2FkCiAqIHByb2Nlc3MuCiAqIEBwYXJhbSB7c3RyaW5nfSBpbnB1dElkIEVsZW1lbnQgSUQgb2YgdGhlIGlucHV0IGZpbGUgcGlja2VyIGVsZW1lbnQuCiAqIEBwYXJhbSB7c3RyaW5nfSBvdXRwdXRJZCBFbGVtZW50IElEIG9mIHRoZSBvdXRwdXQgZGlzcGxheS4KICogQHJldHVybiB7IUl0ZXJhYmxlPCFPYmplY3Q+fSBJdGVyYWJsZSBvZiBuZXh0IHN0ZXBzLgogKi8KZnVuY3Rpb24qIHVwbG9hZEZpbGVzU3RlcChpbnB1dElkLCBvdXRwdXRJZCkgewogIGNvbnN0IGlucHV0RWxlbWVudCA9IGRvY3VtZW50LmdldEVsZW1lbnRCeUlkKGlucHV0SWQpOwogIGlucHV0RWxlbWVudC5kaXNhYmxlZCA9IGZhbHNlOwoKICBjb25zdCBvdXRwdXRFbGVtZW50ID0gZG9jdW1lbnQuZ2V0RWxlbWVudEJ5SWQob3V0cHV0SWQpOwogIG91dHB1dEVsZW1lbnQuaW5uZXJIVE1MID0gJyc7CgogIGNvbnN0IHBpY2tlZFByb21pc2UgPSBuZXcgUHJvbWlzZSgocmVzb2x2ZSkgPT4gewogICAgaW5wdXRFbGVtZW50LmFkZEV2ZW50TGlzdGVuZXIoJ2NoYW5nZScsIChlKSA9PiB7CiAgICAgIHJlc29sdmUoZS50YXJnZXQuZmlsZXMpOwogICAgfSk7CiAgfSk7CgogIGNvbnN0IGNhbmNlbCA9IGRvY3VtZW50LmNyZWF0ZUVsZW1lbnQoJ2J1dHRvbicpOwogIGlucHV0RWxlbWVudC5wYXJlbnRFbGVtZW50LmFwcGVuZENoaWxkKGNhbmNlbCk7CiAgY2FuY2VsLnRleHRDb250ZW50ID0gJ0NhbmNlbCB1cGxvYWQnOwogIGNvbnN0IGNhbmNlbFByb21pc2UgPSBuZXcgUHJvbWlzZSgocmVzb2x2ZSkgPT4gewogICAgY2FuY2VsLm9uY2xpY2sgPSAoKSA9PiB7CiAgICAgIHJlc29sdmUobnVsbCk7CiAgICB9OwogIH0pOwoKICAvLyBXYWl0IGZvciB0aGUgdXNlciB0byBwaWNrIHRoZSBmaWxlcy4KICBjb25zdCBmaWxlcyA9IHlpZWxkIHsKICAgIHByb21pc2U6IFByb21pc2UucmFjZShbcGlja2VkUHJvbWlzZSwgY2FuY2VsUHJvbWlzZV0pLAogICAgcmVzcG9uc2U6IHsKICAgICAgYWN0aW9uOiAnc3RhcnRpbmcnLAogICAgfQogIH07CgogIGNhbmNlbC5yZW1vdmUoKTsKCiAgLy8gRGlzYWJsZSB0aGUgaW5wdXQgZWxlbWVudCBzaW5jZSBmdXJ0aGVyIHBpY2tzIGFyZSBub3QgYWxsb3dlZC4KICBpbnB1dEVsZW1lbnQuZGlzYWJsZWQgPSB0cnVlOwoKICBpZiAoIWZpbGVzKSB7CiAgICByZXR1cm4gewogICAgICByZXNwb25zZTogewogICAgICAgIGFjdGlvbjogJ2NvbXBsZXRlJywKICAgICAgfQogICAgfTsKICB9CgogIGZvciAoY29uc3QgZmlsZSBvZiBmaWxlcykgewogICAgY29uc3QgbGkgPSBkb2N1bWVudC5jcmVhdGVFbGVtZW50KCdsaScpOwogICAgbGkuYXBwZW5kKHNwYW4oZmlsZS5uYW1lLCB7Zm9udFdlaWdodDogJ2JvbGQnfSkpOwogICAgbGkuYXBwZW5kKHNwYW4oCiAgICAgICAgYCgke2ZpbGUudHlwZSB8fCAnbi9hJ30pIC0gJHtmaWxlLnNpemV9IGJ5dGVzLCBgICsKICAgICAgICBgbGFzdCBtb2RpZmllZDogJHsKICAgICAgICAgICAgZmlsZS5sYXN0TW9kaWZpZWREYXRlID8gZmlsZS5sYXN0TW9kaWZpZWREYXRlLnRvTG9jYWxlRGF0ZVN0cmluZygpIDoKICAgICAgICAgICAgICAgICAgICAgICAgICAgICAgICAgICAgJ24vYSd9IC0gYCkpOwogICAgY29uc3QgcGVyY2VudCA9IHNwYW4oJzAlIGRvbmUnKTsKICAgIGxpLmFwcGVuZENoaWxkKHBlcmNlbnQpOwoKICAgIG91dHB1dEVsZW1lbnQuYXBwZW5kQ2hpbGQobGkpOwoKICAgIGNvbnN0IGZpbGVEYXRhUHJvbWlzZSA9IG5ldyBQcm9taXNlKChyZXNvbHZlKSA9PiB7CiAgICAgIGNvbnN0IHJlYWRlciA9IG5ldyBGaWxlUmVhZGVyKCk7CiAgICAgIHJlYWRlci5vbmxvYWQgPSAoZSkgPT4gewogICAgICAgIHJlc29sdmUoZS50YXJnZXQucmVzdWx0KTsKICAgICAgfTsKICAgICAgcmVhZGVyLnJlYWRBc0FycmF5QnVmZmVyKGZpbGUpOwogICAgfSk7CiAgICAvLyBXYWl0IGZvciB0aGUgZGF0YSB0byBiZSByZWFkeS4KICAgIGxldCBmaWxlRGF0YSA9IHlpZWxkIHsKICAgICAgcHJvbWlzZTogZmlsZURhdGFQcm9taXNlLAogICAgICByZXNwb25zZTogewogICAgICAgIGFjdGlvbjogJ2NvbnRpbnVlJywKICAgICAgfQogICAgfTsKCiAgICAvLyBVc2UgYSBjaHVua2VkIHNlbmRpbmcgdG8gYXZvaWQgbWVzc2FnZSBzaXplIGxpbWl0cy4gU2VlIGIvNjIxMTU2NjAuCiAgICBsZXQgcG9zaXRpb24gPSAwOwogICAgd2hpbGUgKHBvc2l0aW9uIDwgZmlsZURhdGEuYnl0ZUxlbmd0aCkgewogICAgICBjb25zdCBsZW5ndGggPSBNYXRoLm1pbihmaWxlRGF0YS5ieXRlTGVuZ3RoIC0gcG9zaXRpb24sIE1BWF9QQVlMT0FEX1NJWkUpOwogICAgICBjb25zdCBjaHVuayA9IG5ldyBVaW50OEFycmF5KGZpbGVEYXRhLCBwb3NpdGlvbiwgbGVuZ3RoKTsKICAgICAgcG9zaXRpb24gKz0gbGVuZ3RoOwoKICAgICAgY29uc3QgYmFzZTY0ID0gYnRvYShTdHJpbmcuZnJvbUNoYXJDb2RlLmFwcGx5KG51bGwsIGNodW5rKSk7CiAgICAgIHlpZWxkIHsKICAgICAgICByZXNwb25zZTogewogICAgICAgICAgYWN0aW9uOiAnYXBwZW5kJywKICAgICAgICAgIGZpbGU6IGZpbGUubmFtZSwKICAgICAgICAgIGRhdGE6IGJhc2U2NCwKICAgICAgICB9LAogICAgICB9OwogICAgICBwZXJjZW50LnRleHRDb250ZW50ID0KICAgICAgICAgIGAke01hdGgucm91bmQoKHBvc2l0aW9uIC8gZmlsZURhdGEuYnl0ZUxlbmd0aCkgKiAxMDApfSUgZG9uZWA7CiAgICB9CiAgfQoKICAvLyBBbGwgZG9uZS4KICB5aWVsZCB7CiAgICByZXNwb25zZTogewogICAgICBhY3Rpb246ICdjb21wbGV0ZScsCiAgICB9CiAgfTsKfQoKc2NvcGUuZ29vZ2xlID0gc2NvcGUuZ29vZ2xlIHx8IHt9OwpzY29wZS5nb29nbGUuY29sYWIgPSBzY29wZS5nb29nbGUuY29sYWIgfHwge307CnNjb3BlLmdvb2dsZS5jb2xhYi5fZmlsZXMgPSB7CiAgX3VwbG9hZEZpbGVzLAogIF91cGxvYWRGaWxlc0NvbnRpbnVlLAp9Owp9KShzZWxmKTsK",
       "headers": [
        [
         "content-type",
         "application/javascript"
        ]
       ],
       "ok": true,
       "status": 200,
       "status_text": ""
      }
     }
    },
    "id": "0J3eb8TMmIpv",
    "outputId": "009aa32a-7c11-45c8-e678-5f3cf7c2843b"
   },
   "outputs": [
    {
     "data": {
      "text/html": [
       "\n",
       "     <input type=\"file\" id=\"files-2c673f4a-1cfd-43b5-905b-7939986ecc36\" name=\"files[]\" multiple disabled\n",
       "        style=\"border:none\" />\n",
       "     <output id=\"result-2c673f4a-1cfd-43b5-905b-7939986ecc36\">\n",
       "      Upload widget is only available when the cell has been executed in the\n",
       "      current browser session. Please rerun this cell to enable.\n",
       "      </output>\n",
       "      <script src=\"/nbextensions/google.colab/files.js\"></script> "
      ],
      "text/plain": [
       "<IPython.core.display.HTML object>"
      ]
     },
     "metadata": {
      "tags": []
     },
     "output_type": "display_data"
    },
    {
     "name": "stdout",
     "output_type": "stream",
     "text": [
      "Saving Salary_Data.csv to Salary_Data (1).csv\n"
     ]
    }
   ],
   "source": [
    "import matplotlib.pyplot as plt\n",
    "import numpy as np\n",
    "import torch\n",
    "\n",
    "from pandas import read_csv\n",
    "\n",
    "import io \n",
    "from google.colab import files \n",
    "uploaded = files.upload()"
   ]
  },
  {
   "cell_type": "markdown",
   "metadata": {
    "id": "9vrO9S-ImIpw"
   },
   "source": [
    "## Optimization"
   ]
  },
  {
   "cell_type": "markdown",
   "metadata": {
    "id": "w8S1eMGrmIpw"
   },
   "source": [
    "### Simple SGD optimization"
   ]
  },
  {
   "cell_type": "code",
   "execution_count": 20,
   "metadata": {
    "id": "9_5N39rimIpz"
   },
   "outputs": [],
   "source": [
    "def vanilla_sgd_optimization(func, input_dim, num_iteration, step_size):\n",
    "    '''\n",
    "    This function finds the local minimum of a function with vanilla sgd.\n",
    "    \n",
    "    Inputs:\n",
    "    func: target function\n",
    "    input_dim: dimension of the function input\n",
    "    num_iteration: number of iterations that sgd should be done. \n",
    "    step_size: size of the steps of the sgd\n",
    "    \n",
    "    Outputs:\n",
    "    x: the local minimum point of the function\n",
    "    func_value_list: list of values of the function in the sgd steps\n",
    "    '''\n",
    "    \n",
    "    x = torch.randn(input_dim, requires_grad=True)\n",
    "    func_value_list = []\n",
    "    for _ in range(num_iteration):\n",
    "        # todo: Put your code here\n",
    "        f = func(x)\n",
    "        func_value_list.append(f)\n",
    "        f.backward()\n",
    "        x.data -= step_size*x.grad.data\n",
    "        x.grad.data.zero_()\n",
    "    return x, func_value_list"
   ]
  },
  {
   "cell_type": "markdown",
   "metadata": {
    "id": "UtLw14vEmIpz"
   },
   "source": [
    "### SGD with momentum"
   ]
  },
  {
   "cell_type": "code",
   "execution_count": 21,
   "metadata": {
    "id": "0FtduxJkmIp0"
   },
   "outputs": [],
   "source": [
    "def momentum_sgd_optimization(func, input_dim, num_iteration, step_size, v=0, alpha=0.9):\n",
    "    '''\n",
    "    This function finds the local minimum of a function with momentum sgd.\n",
    "    \n",
    "    Inputs:\n",
    "    func: target function\n",
    "    input_dim: dimension of the function input\n",
    "    num_iteration: number of iterations that sgd should be done. \n",
    "    step_size: size of the steps of the sgd\n",
    "    v: initial velocity \n",
    "    alpha: momentum parameter\n",
    "    \n",
    "    Outputs:\n",
    "    x: the local minimum point of the function\n",
    "    func_value_list: list of values of the function in the sgd steps\n",
    "    '''\n",
    "    \n",
    "    x = torch.randn(input_dim, requires_grad=True)\n",
    "    func_value_list = []\n",
    "    # This should be done!\n",
    "    if v == 0:\n",
    "        v = torch.zeros(input_dim, requires_grad=True)\n",
    "    for _ in range(num_iteration):\n",
    "        # todo: Put your code here\n",
    "        f = func(x)\n",
    "        func_value_list.append(f)\n",
    "        f.backward()\n",
    "        v.data = alpha*v.data - step_size*x.grad.data\n",
    "        x.data += v.data\n",
    "        x.grad.data.zero_()\n",
    "    return x, func_value_list"
   ]
  },
  {
   "cell_type": "markdown",
   "metadata": {
    "id": "vKrSyV4ZmIp1"
   },
   "source": [
    "### Target functions \n",
    "Implement these two functions:\n",
    "* Rosenbrock function: \n",
    "\\begin{equation}\n",
    "f(x) = 100(x_2 - x_1^2)^2 + (1 - x_2)^2\n",
    "\\end{equation}\n",
    "\n",
    "* Powel function: \n",
    "\\begin{equation}\n",
    "f(x) = (x_1 - 10x_2)^2 + 5(x_3 - x_4)^2 + (x_2 - 2x_3)^4 + 10(x_1 - x_4)^4\n",
    "\\end{equation}"
   ]
  },
  {
   "cell_type": "code",
   "execution_count": 22,
   "metadata": {
    "id": "DH4-o0V7mIp2"
   },
   "outputs": [],
   "source": [
    "def rosen_brock_function(x):\n",
    "    # todo: Put your code here\n",
    "    return 100*(x[1] - x[0]**2)**2 + (1 - x[1])**2\n",
    "\n",
    "def powel_function(x):\n",
    "    # todo: Put your code here\n",
    "    return (x[0] - 10*x[1])**2 + 5*(x[2] - x[3])**2 + (x[1] - 2*x[2])**4 + 10*(x[0] - x[3])**4"
   ]
  },
  {
   "cell_type": "markdown",
   "metadata": {
    "id": "HBADubNUmIp4"
   },
   "source": [
    "### Plot cost "
   ]
  },
  {
   "cell_type": "code",
   "execution_count": 23,
   "metadata": {
    "id": "gSsIZvqimIp4"
   },
   "outputs": [],
   "source": [
    "def plot_function_value(vanilla_sgd_function_values, momentum_sgd_function_values):\n",
    "    plt.figure(figsize=(10, 8))\n",
    "    plt.plot(np.log(momentum_sgd_function_values), label='momentom')\n",
    "    plt.plot(np.log(vanilla_sgd_function_values), label='vanilla')\n",
    "    plt.legend(fontsize=14)\n",
    "    plt.xlabel('Iteration', fontsize=14)\n",
    "    plt.ylabel('Function value', fontsize=14)\n",
    "    plt.axes()\n",
    "    plt.show()"
   ]
  },
  {
   "cell_type": "markdown",
   "metadata": {
    "id": "vlVPLUnRmIp5"
   },
   "source": [
    "### Parameters \n",
    "**Note**: Use these parameters for this section and do not change them."
   ]
  },
  {
   "cell_type": "code",
   "execution_count": 24,
   "metadata": {
    "id": "BCHpc8zqmIp5"
   },
   "outputs": [],
   "source": [
    "NUM_ITERATIONS = 10000\n",
    "STEP_SIZE = 1e-3\n",
    "ROSEN_BROCK_INPUT_DIM = 2\n",
    "POWEL_INPUT_DIM = 4"
   ]
  },
  {
   "cell_type": "markdown",
   "metadata": {
    "id": "YNQsPFNAmIp6"
   },
   "source": [
    "### Rosenbrock function"
   ]
  },
  {
   "cell_type": "code",
   "execution_count": 25,
   "metadata": {
    "colab": {
     "base_uri": "https://localhost:8080/",
     "height": 588
    },
    "id": "DHwi-3WPmIp6",
    "outputId": "941bad3e-b65a-450b-aa6d-8264cef99b66"
   },
   "outputs": [
    {
     "name": "stdout",
     "output_type": "stream",
     "text": [
      "min of rosenbrock function with vanilla sgd is 4.3307935015945986e-10\n",
      "min of rosenbrock function with momentum sgd is 6.430411758628907e-13\n"
     ]
    },
    {
     "name": "stderr",
     "output_type": "stream",
     "text": [
      "/usr/local/lib/python3.6/dist-packages/ipykernel_launcher.py:8: MatplotlibDeprecationWarning: Adding an axes using the same arguments as a previous axes currently reuses the earlier instance.  In a future version, a new instance will always be created and returned.  Meanwhile, this warning can be suppressed, and the future behavior ensured, by passing a unique label to each axes instance.\n",
      "  \n"
     ]
    },
    {
     "data": {
      "image/png": "[encoded data removed]",
      "text/plain": [
       "<Figure size 720x576 with 1 Axes>"
      ]
     },
     "metadata": {
      "needs_background": "light",
      "tags": []
     },
     "output_type": "display_data"
    }
   ],
   "source": [
    "# todo: fill function inputs\n",
    "vanilla_sgd_min_x, vanilla_sgd_function_values = vanilla_sgd_optimization(rosen_brock_function, ROSEN_BROCK_INPUT_DIM, NUM_ITERATIONS, STEP_SIZE)\n",
    "\n",
    "momentum_sgd_min_x, momentom_sgd_function_values = momentum_sgd_optimization(rosen_brock_function, ROSEN_BROCK_INPUT_DIM, NUM_ITERATIONS, STEP_SIZE)\n",
    "\n",
    "print('min of rosenbrock function with vanilla sgd is {}'.format(rosen_brock_function(vanilla_sgd_min_x)))\n",
    "print('min of rosenbrock function with momentum sgd is {}'.format(rosen_brock_function(momentum_sgd_min_x)))\n",
    "plot_function_value(vanilla_sgd_function_values, momentom_sgd_function_values)"
   ]
  },
  {
   "cell_type": "markdown",
   "metadata": {
    "id": "pHpdzORMmIp7"
   },
   "source": [
    "### Powel Function"
   ]
  },
  {
   "cell_type": "code",
   "execution_count": 26,
   "metadata": {
    "colab": {
     "base_uri": "https://localhost:8080/",
     "height": 588
    },
    "id": "jOZ0qlLYmIp7",
    "outputId": "caaeab0d-8517-4133-8694-d35701ef23d2"
   },
   "outputs": [
    {
     "name": "stdout",
     "output_type": "stream",
     "text": [
      "min of powel function with vanilla sgd is 0.00030605660867877305\n",
      "min of powel function with momentum sgd is 2.8428742098185467e-06\n"
     ]
    },
    {
     "name": "stderr",
     "output_type": "stream",
     "text": [
      "/usr/local/lib/python3.6/dist-packages/ipykernel_launcher.py:8: MatplotlibDeprecationWarning: Adding an axes using the same arguments as a previous axes currently reuses the earlier instance.  In a future version, a new instance will always be created and returned.  Meanwhile, this warning can be suppressed, and the future behavior ensured, by passing a unique label to each axes instance.\n",
      "  \n"
     ]
    },
    {
     "data": {
      "image/png": "[encoded data removed]",
      "text/plain": [
       "<Figure size 720x576 with 1 Axes>"
      ]
     },
     "metadata": {
      "needs_background": "light",
      "tags": []
     },
     "output_type": "display_data"
    }
   ],
   "source": [
    "# todo: fill function inputs\n",
    "vanilla_sgd_min_x, vanilla_sgd_function_values = vanilla_sgd_optimization(powel_function, POWEL_INPUT_DIM, NUM_ITERATIONS, STEP_SIZE)\n",
    "\n",
    "momentum_sgd_min_x, momentom_sgd_function_values = momentum_sgd_optimization(powel_function, POWEL_INPUT_DIM, NUM_ITERATIONS, STEP_SIZE)\n",
    "\n",
    "print('min of powel function with vanilla sgd is {}'.format(powel_function(vanilla_sgd_min_x)))\n",
    "print('min of powel function with momentum sgd is {}'.format(powel_function(momentum_sgd_min_x)))\n",
    "plot_function_value(vanilla_sgd_function_values, momentom_sgd_function_values)"
   ]
  },
  {
   "cell_type": "markdown",
   "metadata": {
    "id": "nP-gg3eEmIp8"
   },
   "source": [
    "### Question\n",
    "According to the above plots, what is the effect of momentum? \n"
   ]
  },
  {
   "cell_type": "markdown",
   "metadata": {
    "id": "QdgBYXnrmIp9"
   },
   "source": [
    "Answer: \n",
    "\n",
    "- It converges more rapidly. \n",
    "- It considers the past gradients to smooth out the update. It computes an exponentially weighted average of your gradients, and then use that gradient to update the weights instead."
   ]
  },
  {
   "cell_type": "markdown",
   "metadata": {
    "id": "9w1ffpWqmIp9"
   },
   "source": [
    "## Regularization"
   ]
  },
  {
   "cell_type": "markdown",
   "metadata": {
    "id": "hRvAER0wmIp-"
   },
   "source": [
    "### Parameters\n",
    "**Note**: Use this parameters for this section and do not change them."
   ]
  },
  {
   "cell_type": "code",
   "execution_count": 34,
   "metadata": {
    "id": "wHwLrZGOmIp-"
   },
   "outputs": [],
   "source": [
    "feature_dim = 2\n",
    "train_ratio = 0.8\n",
    "NUM_ITERATIONS = 10000\n",
    "STEP_SIZE = 1"
   ]
  },
  {
   "cell_type": "markdown",
   "metadata": {
    "id": "l_BWc7Y5mIp-"
   },
   "source": [
    "### Loading dataset\n",
    "* Load the salary dataset. \n",
    "* Consider YearsExperience column as X and add one column of ones to it for bias. \n",
    "* Consider Salary column as Y.\n",
    "* Split X and Y to train and test. "
   ]
  },
  {
   "cell_type": "code",
   "execution_count": 35,
   "metadata": {
    "id": "_3laZAQjmIp_"
   },
   "outputs": [],
   "source": [
    "# todo: Put your code here.\n",
    "df = read_csv(io.BytesIO(uploaded['Salary_Data.csv'])) \n",
    "df['ones'] = 1\n",
    "X = torch.tensor(df[['ones', 'YearsExperience']].values, dtype=torch.float32)\n",
    "y = torch.tensor(df['Salary'].values, dtype=torch.float32)\n",
    "\n",
    "L = len(X)\n",
    "train_x = X[:int(train_ratio*L)]\n",
    "train_y = y[:int(train_ratio*L)]\n",
    "test_x = X[int(train_ratio*L):]\n",
    "test_y = y[int(train_ratio*L):]"
   ]
  },
  {
   "cell_type": "markdown",
   "metadata": {
    "id": "3TfacFStmIp_"
   },
   "source": [
    "### Objective function"
   ]
  },
  {
   "cell_type": "code",
   "execution_count": 36,
   "metadata": {
    "id": "0MYV6YTomIp_"
   },
   "outputs": [],
   "source": [
    "def linear_equation_error(x, y, w, reg_factor=0):\n",
    "    '''\n",
    "    This function should calculate the norm 2 of error of the linear equation.\n",
    "    Input: \n",
    "    x: feature vector (n_sample, feature_dim)\n",
    "    y: label vector (n_sample, 1)\n",
    "    w: weights (feature_dim, 1)\n",
    "    reg_factor: regularization factor. Note that for evaluation this parameter should be set to 0. \n",
    "    \n",
    "    Output: \n",
    "    loss: (norm2(y - x*w) + reg_factor*norm2(w))/n_sample\n",
    "    '''\n",
    "    w = w[:, None]\n",
    "    # todo: Put your code here.\n",
    "    return torch.norm(y - torch.matmul(x, w), 2) + reg_factor*torch.norm(w, 2)"
   ]
  },
  {
   "cell_type": "markdown",
   "metadata": {
    "id": "lBvZWNszmIqA"
   },
   "source": [
    "### Regularization factor = 0"
   ]
  },
  {
   "cell_type": "code",
   "execution_count": 43,
   "metadata": {
    "colab": {
     "base_uri": "https://localhost:8080/"
    },
    "id": "m_KpapBemIqA",
    "outputId": "1c3f3461-e31e-4975-876f-6d2decf645ec"
   },
   "outputs": [
    {
     "name": "stdout",
     "output_type": "stream",
     "text": [
      "train error without regularization: 496403.28125\n",
      "test error without regularization: 293437.25\n"
     ]
    }
   ],
   "source": [
    "reg_factor = 0\n",
    "naive_linear_equation_error_handler = lambda w: linear_equation_error(train_x, \n",
    "                                                                      train_y, \n",
    "                                                                      w,\n",
    "                                                                      reg_factor)\n",
    "\n",
    "# todo: fill function inputs\n",
    "naive_weights, naive_train_error = momentum_sgd_optimization(naive_linear_equation_error_handler, feature_dim, NUM_ITERATIONS, STEP_SIZE)\n",
    "\n",
    "print('train error without regularization: {}'.format(linear_equation_error(train_x, train_y, naive_weights)))\n",
    "print('test error without regularization: {}'.format(linear_equation_error(test_x, test_y, naive_weights)))"
   ]
  },
  {
   "cell_type": "markdown",
   "metadata": {
    "id": "OoopSLWymIqA"
   },
   "source": [
    "### Regularization factor = 0.001"
   ]
  },
  {
   "cell_type": "code",
   "execution_count": 41,
   "metadata": {
    "colab": {
     "base_uri": "https://localhost:8080/"
    },
    "id": "xDw3eqeVmIqB",
    "outputId": "5c7416ed-279f-464d-a14c-efd746352e4e"
   },
   "outputs": [
    {
     "name": "stdout",
     "output_type": "stream",
     "text": [
      "train error with regularization: 20683.46484375\n",
      "test error with regularization: 293412.375\n"
     ]
    }
   ],
   "source": [
    "reg_factor = 0.001\n",
    "regularized_linear_equation_error_handler = lambda w: linear_equation_error(train_x, \n",
    "                                                                            train_y,\n",
    "                                                                            w,\n",
    "                                                                            reg_factor)\n",
    "# todo: fill function inputs\n",
    "regularized_weights, regularized_train_error = momentum_sgd_optimization(\n",
    "    regularized_linear_equation_error_handler, feature_dim, NUM_ITERATIONS, STEP_SIZE)\n",
    "\n",
    "print('train error with regularization: {}'.format(linear_equation_error(train_x, train_y, regularized_weights)/len(train_y)))\n",
    "print('test error with regularization: {}'.format(linear_equation_error(test_x, test_y, regularized_weights)))"
   ]
  },
  {
   "cell_type": "markdown",
   "metadata": {
    "id": "-viiWkACmIqB"
   },
   "source": [
    "### Regularization factor = 0.01"
   ]
  },
  {
   "cell_type": "code",
   "execution_count": 40,
   "metadata": {
    "colab": {
     "base_uri": "https://localhost:8080/"
    },
    "id": "ZupHMGe7mIqB",
    "outputId": "405ce1b8-7b0a-46da-cb07-ebd78f505216",
    "scrolled": true
   },
   "outputs": [
    {
     "name": "stdout",
     "output_type": "stream",
     "text": [
      "train error with regularization: 20683.474609375\n",
      "test error with regularization: 293188.5\n"
     ]
    }
   ],
   "source": [
    "reg_factor = 0.01\n",
    "regularized_linear_equation_error_handler = lambda w: linear_equation_error(train_x, \n",
    "                                                                            train_y, \n",
    "                                                                            w,\n",
    "                                                                            reg_factor)\n",
    "\n",
    "# todo: fill function inputs\n",
    "regularized_weights, regularized_train_error = momentum_sgd_optimization(\n",
    "    regularized_linear_equation_error_handler, feature_dim, NUM_ITERATIONS, STEP_SIZE)\n",
    "\n",
    "print('train error with regularization: {}'.format(linear_equation_error(train_x, train_y, regularized_weights)/len(train_y)))\n",
    "print('test error with regularization: {}'.format(linear_equation_error(test_x, test_y, regularized_weights)))"
   ]
  },
  {
   "cell_type": "code",
   "execution_count": 33,
   "metadata": {
    "colab": {
     "base_uri": "https://localhost:8080/",
     "height": 657
    },
    "id": "o59xQat-Dzj2",
    "outputId": "66b32956-5e31-49ec-d93e-5274c7a91b91"
   },
   "outputs": [
    {
     "data": {
      "image/png": "[encoded data removed]",
      "text/plain": [
       "<Figure size 864x648 with 1 Axes>"
      ]
     },
     "metadata": {
      "needs_background": "light",
      "tags": []
     },
     "output_type": "display_data"
    }
   ],
   "source": [
    "## Comparison\n",
    "labels = ['0 ', '0.001 ', '0.01']\n",
    "train_error = [496403.28125, 496403.1875, 496403.40625]\n",
    "test_error = [293437.25, 293412.3125, 293188.5]\n",
    "\n",
    "x = np.arange(len(labels))  # the label locations\n",
    "width = 0.5  # the width of the bars\n",
    "\n",
    "fig, ax = plt.subplots(figsize=(12,9))\n",
    "rects1 = ax.bar(x - width/2, train_error, width, label='train error')\n",
    "rects2 = ax.bar(x + width/2, test_error, width, label='test error')\n",
    "ax.set_xticks(x)\n",
    "ax.set_xticklabels(labels)\n",
    "ax.legend()\n",
    "\n",
    "\n",
    "def autolabel(rects):\n",
    "    \"\"\"Attach a text label above each bar in *rects*, displaying its height.\"\"\"\n",
    "    for rect in rects:\n",
    "        height = rect.get_height()\n",
    "        ax.annotate('{}'.format(height),\n",
    "                    xy=(rect.get_x() + rect.get_width() / 2, height),\n",
    "                    xytext=(0, 3),  # 3 points vertical offset\n",
    "                    textcoords=\"offset points\",\n",
    "                    ha='center', va='bottom')\n",
    "\n",
    "\n",
    "autolabel(rects1)\n",
    "autolabel(rects2)\n",
    "\n",
    "fig.tight_layout()\n",
    "\n",
    "plt.show()"
   ]
  },
  {
   "cell_type": "markdown",
   "metadata": {
    "id": "HSuLkjP3mIqB"
   },
   "source": [
    "### Question \n",
    "* What is the effect of regularization?\n",
    "* What is the effect of size of regularization term?"
   ]
  },
  {
   "cell_type": "markdown",
   "metadata": {
    "id": "JWZrkCv5mIqC"
   },
   "source": [
    "Answer:\n",
    "- Here, we see that the regularization has no meaningful effect on the train data and test data error. However, generally speaking, regularization helps to mitigiate overfitting problem, which means that it will add to train error but decreases test error.\n",
    "-  If we increase the regularization factor, instead of training on the trainset, we aim for decreasing the weights' norm (More sparse). And here, we can observe that there is a slight increase in train error and slight decrease in test error."
   ]
  }
 ],
 "metadata": {
  "colab": {
   "collapsed_sections": [],
   "name": "My_Problem1.ipynb",
   "provenance": [],
   "toc_visible": true
  },
  "kernelspec": {
   "display_name": "Python 3",
   "language": "python",
   "name": "python3"
  },
  "language_info": {
   "codemirror_mode": {
    "name": "ipython",
    "version": 3
   },
   "file_extension": ".py",
   "mimetype": "text/x-python",
   "name": "python",
   "nbconvert_exporter": "python",
   "pygments_lexer": "ipython3",
   "version": "3.8.6"
  },
  "toc": {
   "base_numbering": 1,
   "nav_menu": {},
   "number_sections": true,
   "sideBar": true,
   "skip_h1_title": false,
   "title_cell": "Table of Contents",
   "title_sidebar": "Contents",
   "toc_cell": true,
   "toc_position": {},
   "toc_section_display": true,
   "toc_window_display": true
  }
 },
 "nbformat": 4,
 "nbformat_minor": 1
}
