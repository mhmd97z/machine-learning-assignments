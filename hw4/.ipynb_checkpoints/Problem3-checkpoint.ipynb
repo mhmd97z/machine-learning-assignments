{
 "cells": [
  {
   "cell_type": "markdown",
   "metadata": {
    "id": "4xT7wrj3KQdt"
   },
   "source": [
    "**Denoising by AEs**"
   ]
  },
  {
   "cell_type": "code",
   "execution_count": null,
   "metadata": {
    "id": "cngHJz2vJl5G"
   },
   "outputs": [],
   "source": [
    "###Add python library here####\n",
    "import torch\n",
    "from torch.autograd import Variable\n",
    "import torch.nn as nn\n",
    "import torch.nn.functional as F\n",
    "import torchvision.transforms as transforms\n",
    "import torchvision.datasets as dsets\n",
    "import matplotlib.pyplot as plt\n",
    "import numpy as np\n",
    "%matplotlib inline\n",
    "figsize=(15, 6)\n",
    "plt.style.use('fivethirtyeight')"
   ]
  },
  {
   "cell_type": "markdown",
   "metadata": {
    "id": "wdyGzMH-LQcS"
   },
   "source": [
    "**Loading dataset**"
   ]
  },
  {
   "cell_type": "code",
   "execution_count": null,
   "metadata": {
    "id": "I4bkzgoSKyl-"
   },
   "outputs": [],
   "source": [
    "# Fashion-MNIST data loader\n",
    "\n",
    "\n",
    "####TODO####\n",
    "\n",
    "\n",
    "img_transform = transforms.Compose([\n",
    "    transforms.ToTensor(),\n",
    "    transforms.Normalize(,)\n",
    "])\n",
    "train_dataset = dsets.FashionMNIST(root='./data',\n",
    "                                   train=True,\n",
    "                                   transform=img_transform,\n",
    "                                   download=True)\n",
    "\n",
    "test_dataset = dsets.FashionMNIST(root='./data',\n",
    "                                  train=False,\n",
    "                                  transform=img_transform)\n",
    "train_loader = torch.utils.data.DataLoader(dataset=train_dataset, \n",
    "                                           batch_size=batch_size, \n",
    "                                           shuffle=True)\n",
    "\n",
    "test_loader = torch.utils.data.DataLoader(dataset=test_dataset, \n",
    "                                          batch_size=batch_size, \n",
    "                                          shuffle=False)\n",
    "batch_size = \n",
    "n_iters = \n",
    "num_epochs = n_iters / (len(train_dataset) / batch_size)\n",
    "num_epochs = int(num_epochs)\n",
    "####TODO####"
   ]
  },
  {
   "cell_type": "markdown",
   "metadata": {
    "id": "j7mf5NaDLmr4"
   },
   "source": [
    "**Autoencoder architecture**"
   ]
  },
  {
   "cell_type": "code",
   "execution_count": null,
   "metadata": {
    "id": "GlgNKHadKyrR"
   },
   "outputs": [],
   "source": [
    "class autoencoder(nn.Module):\n",
    "    def __init__(self):\n",
    "        super(autoencoder, self).__init__()\n",
    "        ###TODO###\n",
    "        self.encoder = nn.Sequential()\n",
    "        self.decoder = nn.Sequential()\n",
    "\n",
    "    def forward(self, x):\n",
    "        x = self.encoder(x)\n",
    "        x = self.decoder(x)\n",
    "        return x\n",
    "        ###TODO###\n",
    "        "
   ]
  },
  {
   "cell_type": "markdown",
   "metadata": {
    "id": "89IdXlF-OKMk"
   },
   "source": [
    "**Evaluation**"
   ]
  },
  {
   "cell_type": "code",
   "execution_count": null,
   "metadata": {
    "id": "X5b32qq_Kyve"
   },
   "outputs": [],
   "source": [
    "####TODO####\n",
    "learning_rate=\n",
    "model = autoencoder()\n",
    "criterion = nn.MSELoss()\n",
    "optimizer =\n",
    "\n",
    "for epoch in range(num_epochs):\n",
    "    for data in train_loader:\n",
    "        img, _ = data\n",
    "        images = img.view(-1, 28*28).requires_grad_().cuda()\n",
    "        noisy_images =\n",
    "        # ===================forward=====================\n",
    "        output = model(noisy_images)\n",
    "        loss = criterion(output, images)\n",
    "        # ===================backward====================\n",
    "        optimizer.zero_grad()\n",
    "        loss.backward()\n",
    "        optimizer.step()\n",
    "    # ===================log========================\n",
    "    print('epoch [{}/{}], loss:{:.4f}'\n",
    "          .format(epoch + 1, num_epochs, loss.item()))\n",
    "    if epoch % 10 == 0:\n",
    "    # Calculate MSE Test Loss\n",
    "####TODO####"
   ]
  },
  {
   "cell_type": "markdown",
   "metadata": {
    "id": "PiS56nh9NUen"
   },
   "source": [
    "NOTE: add your explanation after each part "
   ]
  },
  {
   "cell_type": "code",
   "execution_count": null,
   "metadata": {
    "id": "tf-OVH75QAac"
   },
   "outputs": [],
   "source": [
    "###Now compare the noisy and denoised version of the Fasiohn MNIST(visually)###\n"
   ]
  }
 ],
 "metadata": {
  "colab": {
   "name": "Problem3.ipynb",
   "provenance": []
  },
  "kernelspec": {
   "display_name": "Python 3",
   "language": "python",
   "name": "python3"
  },
  "language_info": {
   "codemirror_mode": {
    "name": "ipython",
    "version": 3
   },
   "file_extension": ".py",
   "mimetype": "text/x-python",
   "name": "python",
   "nbconvert_exporter": "python",
   "pygments_lexer": "ipython3",
   "version": "3.8.6"
  }
 },
 "nbformat": 4,
 "nbformat_minor": 1
}
