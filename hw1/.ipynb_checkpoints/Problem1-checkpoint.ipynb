{
 "cells": [
  {
   "cell_type": "markdown",
   "metadata": {
    "toc": true
   },
   "source": [
    "<h1>Table of Contents<span class=\"tocSkip\"></span></h1>\n",
    "<div class=\"toc\"><ul class=\"toc-item\"><li><span><a href=\"#Description\" data-toc-modified-id=\"Description-1\"><span class=\"toc-item-num\">1&nbsp;&nbsp;</span>Description</a></span></li><li><span><a href=\"#Import\" data-toc-modified-id=\"Import-2\"><span class=\"toc-item-num\">2&nbsp;&nbsp;</span>Import</a></span></li><li><span><a href=\"#Array-creation\" data-toc-modified-id=\"Array-creation-3\"><span class=\"toc-item-num\">3&nbsp;&nbsp;</span>Array creation</a></span></li><li><span><a href=\"#Prime-Numbers\" data-toc-modified-id=\"Prime-Numbers-4\"><span class=\"toc-item-num\">4&nbsp;&nbsp;</span>Prime Numbers</a></span></li><li><span><a href=\"#Element-wise-Multiplication\" data-toc-modified-id=\"Element-wise-Multiplication-5\"><span class=\"toc-item-num\">5&nbsp;&nbsp;</span>Element-wise Multiplication</a></span></li><li><span><a href=\"#Replacement\" data-toc-modified-id=\"Replacement-6\"><span class=\"toc-item-num\">6&nbsp;&nbsp;</span>Replacement</a></span></li><li><span><a href=\"#Axis-Swap\" data-toc-modified-id=\"Axis-Swap-7\"><span class=\"toc-item-num\">7&nbsp;&nbsp;</span>Axis Swap</a></span></li><li><span><a href=\"#Transposing\" data-toc-modified-id=\"Transposing-8\"><span class=\"toc-item-num\">8&nbsp;&nbsp;</span>Transposing</a></span></li><li><span><a href=\"#Matrix-Multiplication\" data-toc-modified-id=\"Matrix-Multiplication-9\"><span class=\"toc-item-num\">9&nbsp;&nbsp;</span>Matrix Multiplication</a></span></li><li><span><a href=\"#Cartesian-Prodoct\" data-toc-modified-id=\"Cartesian-Prodoct-10\"><span class=\"toc-item-num\">10&nbsp;&nbsp;</span>Cartesian Prodoct</a></span></li><li><span><a href=\"#Sum-along-Axis\" data-toc-modified-id=\"Sum-along-Axis-11\"><span class=\"toc-item-num\">11&nbsp;&nbsp;</span>Sum along Axis</a></span></li><li><span><a href=\"#Determinant\" data-toc-modified-id=\"Determinant-12\"><span class=\"toc-item-num\">12&nbsp;&nbsp;</span>Determinant</a></span></li></ul></div>"
   ]
  },
  {
   "cell_type": "markdown",
   "metadata": {},
   "source": [
    "## Description\n",
    "Numpy is one of the most important Python libraries in data science. In this problem, we are going to get familiar with this library. \n",
    "\n",
    "**Note**: In the following cells, the input of each cell is the output of its previous cell. So, order of execution of the cells is important."
   ]
  },
  {
   "cell_type": "markdown",
   "metadata": {},
   "source": [
    "## Import \n",
    "Put all of your imports for this file in the below cell."
   ]
  },
  {
   "cell_type": "code",
   "execution_count": 2,
   "metadata": {},
   "outputs": [],
   "source": [
    "import numpy as np"
   ]
  },
  {
   "cell_type": "markdown",
   "metadata": {},
   "source": [
    "## Array creation\n",
    "Create the followings to numpy array:\n",
    "* A: a 3\\*3 array that filled with number 1 to 9 row wise. like this:\n",
    "$$\n",
    "A = \\left(\\begin{array}{cc} \n",
    "1 & 2 & 3\\\\\n",
    "4 & 5 & 6\\\\\n",
    "7 & 8 & 9\n",
    "\\end{array}\\right)\n",
    "$$ \n",
    "* B: a 3\\*3\\*5 that filled with the numbers start from 11 and have steps of 3 to the end. The array should be filled first along the first dimension then the second dimension and at last the third dimension. like this:\n",
    "$$\n",
    "B[:, :, 0] = \\left(\\begin{array}{cc} \n",
    "11 & 20 & 29\\\\\n",
    "14 & 23 & 32\\\\\n",
    "17 & 26 & 35\n",
    "\\end{array}\\right)\n",
    "$$ "
   ]
  },
  {
   "cell_type": "code",
   "execution_count": 3,
   "metadata": {},
   "outputs": [
    {
     "data": {
      "text/plain": [
       "array([[11, 20, 29],\n",
       "       [14, 23, 32],\n",
       "       [17, 26, 35]])"
      ]
     },
     "execution_count": 3,
     "metadata": {},
     "output_type": "execute_result"
    }
   ],
   "source": [
    "a = np.array([[1, 2, 3], [4, 5, 6], [7, 8, 9]])\n",
    "b = np.arange(11, 11 + 3*3*3*5, 3).reshape(3, 3, 5, order='F')\n",
    "b[:, :, 0]"
   ]
  },
  {
   "cell_type": "markdown",
   "metadata": {},
   "source": [
    "## Prime Numbers \n",
    "Replace the elements with prime values in the array A with 10."
   ]
  },
  {
   "cell_type": "code",
   "execution_count": 4,
   "metadata": {},
   "outputs": [
    {
     "data": {
      "text/plain": [
       "array([[ 1, 10, 10],\n",
       "       [ 4, 10,  6],\n",
       "       [10,  8,  9]])"
      ]
     },
     "execution_count": 4,
     "metadata": {},
     "output_type": "execute_result"
    }
   ],
   "source": [
    "def is_prime(num):\n",
    "    if num > 1: \n",
    "        for i in range(2, num): \n",
    "            if (num % i) == 0: \n",
    "                return False\n",
    "        else: \n",
    "            return True\n",
    "    else: \n",
    "        return False\n",
    "       \n",
    "def prime_list_index(list):\n",
    "    return [iter for iter, item in enumerate(list) if is_prime(item) ]\n",
    "\n",
    "original_shape = a.shape\n",
    "a = a.reshape(a.size)\n",
    "a[prime_list_index(a)] = 10\n",
    "a = a.reshape(original_shape)\n",
    "a"
   ]
  },
  {
   "cell_type": "markdown",
   "metadata": {},
   "source": [
    "## Element-wise Multiplication\n",
    "Calculate the element wise multiplication of arrays A and B and put the result in B. Then print the result."
   ]
  },
  {
   "cell_type": "code",
   "execution_count": 5,
   "metadata": {},
   "outputs": [
    {
     "data": {
      "text/plain": [
       "array([[[  11,   38,   65,   92,  119],\n",
       "        [ 200,  470,  740, 1010, 1280],\n",
       "        [ 290,  560,  830, 1100, 1370]],\n",
       "\n",
       "       [[  56,  164,  272,  380,  488],\n",
       "        [ 230,  500,  770, 1040, 1310],\n",
       "        [ 192,  354,  516,  678,  840]],\n",
       "\n",
       "       [[ 170,  440,  710,  980, 1250],\n",
       "        [ 208,  424,  640,  856, 1072],\n",
       "        [ 315,  558,  801, 1044, 1287]]])"
      ]
     },
     "execution_count": 5,
     "metadata": {},
     "output_type": "execute_result"
    }
   ],
   "source": [
    "for i in range(5):\n",
    "    b[:,:,i] = np.multiply(b[:,:,i], a)\n",
    "b"
   ]
  },
  {
   "cell_type": "markdown",
   "metadata": {},
   "source": [
    "## Replacement\n",
    "Replace the last slice of array B (B[:, :, 4]) with values of A. Then print the result."
   ]
  },
  {
   "cell_type": "code",
   "execution_count": 6,
   "metadata": {},
   "outputs": [
    {
     "data": {
      "text/plain": [
       "array([[[  11,   38,   65,   92,    1],\n",
       "        [ 200,  470,  740, 1010,   10],\n",
       "        [ 290,  560,  830, 1100,   10]],\n",
       "\n",
       "       [[  56,  164,  272,  380,    4],\n",
       "        [ 230,  500,  770, 1040,   10],\n",
       "        [ 192,  354,  516,  678,    6]],\n",
       "\n",
       "       [[ 170,  440,  710,  980,   10],\n",
       "        [ 208,  424,  640,  856,    8],\n",
       "        [ 315,  558,  801, 1044,    9]]])"
      ]
     },
     "execution_count": 6,
     "metadata": {},
     "output_type": "execute_result"
    }
   ],
   "source": [
    "b[:, :, 4] = a\n",
    "b"
   ]
  },
  {
   "cell_type": "markdown",
   "metadata": {},
   "source": [
    "## Axis Swap \n",
    "Swap the first(B[:, :, 0]) and last(B[:, :, 4]) slice of the array B **only with one line of code**. Then print the result."
   ]
  },
  {
   "cell_type": "code",
   "execution_count": 7,
   "metadata": {},
   "outputs": [
    {
     "data": {
      "text/plain": [
       "array([[[   1,   38,   65,   92,   11],\n",
       "        [  10,  470,  740, 1010,  200],\n",
       "        [  10,  560,  830, 1100,  290]],\n",
       "\n",
       "       [[   4,  164,  272,  380,   56],\n",
       "        [  10,  500,  770, 1040,  230],\n",
       "        [   6,  354,  516,  678,  192]],\n",
       "\n",
       "       [[  10,  440,  710,  980,  170],\n",
       "        [   8,  424,  640,  856,  208],\n",
       "        [   9,  558,  801, 1044,  315]]])"
      ]
     },
     "execution_count": 7,
     "metadata": {},
     "output_type": "execute_result"
    }
   ],
   "source": [
    "b[:, :, [0, 4]] = b[:, :, [4, 0]]\n",
    "b"
   ]
  },
  {
   "cell_type": "markdown",
   "metadata": {},
   "source": [
    "## Transposing \n",
    "Transpose the array B elements in each slice. Then print the result."
   ]
  },
  {
   "cell_type": "code",
   "execution_count": 8,
   "metadata": {},
   "outputs": [
    {
     "data": {
      "text/plain": [
       "array([[[   1,   38,   65,   92,   11],\n",
       "        [   4,  164,  272,  380,   56],\n",
       "        [  10,  440,  710,  980,  170]],\n",
       "\n",
       "       [[  10,  470,  740, 1010,  200],\n",
       "        [  10,  500,  770, 1040,  230],\n",
       "        [   8,  424,  640,  856,  208]],\n",
       "\n",
       "       [[  10,  560,  830, 1100,  290],\n",
       "        [   6,  354,  516,  678,  192],\n",
       "        [   9,  558,  801, 1044,  315]]])"
      ]
     },
     "execution_count": 8,
     "metadata": {},
     "output_type": "execute_result"
    }
   ],
   "source": [
    "for i in range(5):\n",
    "    b[:, :, i] = b[:, :, i].transpose()\n",
    "b"
   ]
  },
  {
   "cell_type": "markdown",
   "metadata": {},
   "source": [
    "## Matrix Multiplication\n",
    "Calculate the matrix multiplication of all slices of the array B. \n",
    "(B[:, :, 0] \\* B[:, :, 1] \\* B[:, :, 2] \\* B[:, :, 3] \\* B[:, :, 4]). Then print the result.\n",
    "\n",
    "**Note**: the result should be a 3\\*3 array. "
   ]
  },
  {
   "cell_type": "code",
   "execution_count": 9,
   "metadata": {},
   "outputs": [
    {
     "data": {
      "text/plain": [
       "array([[ 1209391816, -1143185392,   350988760],\n",
       "       [ 1470082208,  -459189056,   415182432],\n",
       "       [  -38600768,  1525962136,   425960024]])"
      ]
     },
     "execution_count": 9,
     "metadata": {},
     "output_type": "execute_result"
    }
   ],
   "source": [
    "mat_mult = np.matmul(b[:,:,0], b[:,:,1])\n",
    "mat_mult = np.matmul(mat_mult, b[:,:,2])\n",
    "mat_mult = np.matmul(mat_mult, b[:,:,3])\n",
    "mat_mult = np.matmul(mat_mult, b[:,:,4])\n",
    "mat_mult"
   ]
  },
  {
   "cell_type": "markdown",
   "metadata": {},
   "source": [
    "## Cartesian Prodoct\n",
    "Calculate the cartesian product of all columns of the array and put them in one slice. Then print the result.\n",
    "\n",
    "**Note**: the result should be a 3\\*3\\*3\\*3 array. "
   ]
  },
  {
   "cell_type": "code",
   "execution_count": 10,
   "metadata": {},
   "outputs": [
    {
     "data": {
      "text/plain": [
       "array([[[[ 1.20939182e+09, -1.14318539e+09,  3.50988760e+08],\n",
       "         [ 1.20939182e+09, -1.14318539e+09,  4.15182432e+08],\n",
       "         [ 1.20939182e+09, -1.14318539e+09,  4.25960024e+08]],\n",
       "\n",
       "        [[ 1.20939182e+09, -4.59189056e+08,  3.50988760e+08],\n",
       "         [ 1.20939182e+09, -4.59189056e+08,  4.15182432e+08],\n",
       "         [ 1.20939182e+09, -4.59189056e+08,  4.25960024e+08]],\n",
       "\n",
       "        [[ 1.20939182e+09,  1.52596214e+09,  3.50988760e+08],\n",
       "         [ 1.20939182e+09,  1.52596214e+09,  4.15182432e+08],\n",
       "         [ 1.20939182e+09,  1.52596214e+09,  4.25960024e+08]]],\n",
       "\n",
       "\n",
       "       [[[ 1.47008221e+09, -1.14318539e+09,  3.50988760e+08],\n",
       "         [ 1.47008221e+09, -1.14318539e+09,  4.15182432e+08],\n",
       "         [ 1.47008221e+09, -1.14318539e+09,  4.25960024e+08]],\n",
       "\n",
       "        [[ 1.47008221e+09, -4.59189056e+08,  3.50988760e+08],\n",
       "         [ 1.47008221e+09, -4.59189056e+08,  4.15182432e+08],\n",
       "         [ 1.47008221e+09, -4.59189056e+08,  4.25960024e+08]],\n",
       "\n",
       "        [[ 1.47008221e+09,  1.52596214e+09,  3.50988760e+08],\n",
       "         [ 1.47008221e+09,  1.52596214e+09,  4.15182432e+08],\n",
       "         [ 1.47008221e+09,  1.52596214e+09,  4.25960024e+08]]],\n",
       "\n",
       "\n",
       "       [[[-3.86007680e+07, -1.14318539e+09,  3.50988760e+08],\n",
       "         [-3.86007680e+07, -1.14318539e+09,  4.15182432e+08],\n",
       "         [-3.86007680e+07, -1.14318539e+09,  4.25960024e+08]],\n",
       "\n",
       "        [[-3.86007680e+07, -4.59189056e+08,  3.50988760e+08],\n",
       "         [-3.86007680e+07, -4.59189056e+08,  4.15182432e+08],\n",
       "         [-3.86007680e+07, -4.59189056e+08,  4.25960024e+08]],\n",
       "\n",
       "        [[-3.86007680e+07,  1.52596214e+09,  3.50988760e+08],\n",
       "         [-3.86007680e+07,  1.52596214e+09,  4.15182432e+08],\n",
       "         [-3.86007680e+07,  1.52596214e+09,  4.25960024e+08]]]])"
      ]
     },
     "execution_count": 10,
     "metadata": {},
     "output_type": "execute_result"
    }
   ],
   "source": [
    "x = mat_mult\n",
    "first_column = x[:,0]\n",
    "second_column = x[:,1]\n",
    "third_column = x[:,2]\n",
    "cartesian_product = np.zeros([3,3,3,3])\n",
    "for i in range(3):\n",
    "    for j in range(3):\n",
    "        for k in range(3):\n",
    "            cartesian_product[i,j,k,:] = [first_column[i], second_column[j], third_column[k]]\n",
    "cartesian_product"
   ]
  },
  {
   "cell_type": "markdown",
   "metadata": {},
   "source": [
    "## Sum along Axis\n",
    "Calculate the sum of values of the array along its two last dimensions. Then print it. \n",
    "\n",
    "**Note**: the result is a 3\\*3 array. "
   ]
  },
  {
   "cell_type": "code",
   "execution_count": 11,
   "metadata": {},
   "outputs": [
    {
     "data": {
      "text/plain": [
       "array([[ 1.39075049e+09,  3.44273950e+09,  9.39819307e+09],\n",
       "       [ 2.17282166e+09,  4.22481067e+09,  1.01802642e+10],\n",
       "       [-2.35322726e+09, -3.01238256e+08,  5.65421532e+09]])"
      ]
     },
     "execution_count": 11,
     "metadata": {},
     "output_type": "execute_result"
    }
   ],
   "source": [
    "x = cartesian_product\n",
    "res = np.sum(x, (2,3))\n",
    "res"
   ]
  },
  {
   "cell_type": "markdown",
   "metadata": {},
   "source": [
    "## Determinant\n",
    "Calculate the determinant of the array and print it."
   ]
  },
  {
   "cell_type": "code",
   "execution_count": 12,
   "metadata": {},
   "outputs": [
    {
     "data": {
      "text/plain": [
       "17714314746715.91"
      ]
     },
     "execution_count": 12,
     "metadata": {},
     "output_type": "execute_result"
    }
   ],
   "source": [
    "x = res\n",
    "np.linalg.det(x)"
   ]
  }
 ],
 "metadata": {
  "kernelspec": {
   "display_name": "Python 3",
   "language": "python",
   "name": "python3"
  },
  "language_info": {
   "codemirror_mode": {
    "name": "ipython",
    "version": 3
   },
   "file_extension": ".py",
   "mimetype": "text/x-python",
   "name": "python",
   "nbconvert_exporter": "python",
   "pygments_lexer": "ipython3",
   "version": "3.8.6"
  },
  "toc": {
   "base_numbering": 1,
   "nav_menu": {},
   "number_sections": true,
   "sideBar": true,
   "skip_h1_title": false,
   "title_cell": "Table of Contents",
   "title_sidebar": "Contents",
   "toc_cell": true,
   "toc_position": {},
   "toc_section_display": true,
   "toc_window_display": true
  }
 },
 "nbformat": 4,
 "nbformat_minor": 4
}
